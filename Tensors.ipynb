{
  "nbformat": 4,
  "nbformat_minor": 0,
  "metadata": {
    "colab": {
      "name": "Tensors.ipynb",
      "version": "0.3.2",
      "provenance": [],
      "include_colab_link": true
    },
    "kernelspec": {
      "name": "python3",
      "display_name": "Python 3"
    }
  },
  "cells": [
    {
      "cell_type": "markdown",
      "metadata": {
        "id": "view-in-github",
        "colab_type": "text"
      },
      "source": [
        "<a href=\"https://colab.research.google.com/github/danaderp/DeepLearningTutorials/blob/master/Tensors.ipynb\" target=\"_parent\"><img src=\"https://colab.research.google.com/assets/colab-badge.svg\" alt=\"Open In Colab\"/></a>"
      ]
    },
    {
      "cell_type": "code",
      "metadata": {
        "id": "gMdsbHMJmWjN",
        "colab_type": "code",
        "colab": {}
      },
      "source": [
        "import torch\n",
        "import numpy as np"
      ],
      "execution_count": 0,
      "outputs": []
    },
    {
      "cell_type": "code",
      "metadata": {
        "id": "LQUwym6eq-96",
        "colab_type": "code",
        "outputId": "a2b21079-ffa8-401b-8498-50011c2c685f",
        "colab": {
          "base_uri": "https://localhost:8080/",
          "height": 51
        }
      },
      "source": [
        "# Create a Torch tensor\n",
        "t = torch.Tensor([[1, 2, 3], [4, 5, 6]])\n",
        "t"
      ],
      "execution_count": 0,
      "outputs": [
        {
          "output_type": "execute_result",
          "data": {
            "text/plain": [
              "tensor([[1., 2., 3.],\n",
              "        [4., 5., 6.]])"
            ]
          },
          "metadata": {
            "tags": []
          },
          "execution_count": 2
        }
      ]
    },
    {
      "cell_type": "code",
      "metadata": {
        "id": "ZDD11HNhrIwy",
        "colab_type": "code",
        "outputId": "130e40aa-ecdd-43bd-b037-0e785a7cb349",
        "colab": {
          "base_uri": "https://localhost:8080/",
          "height": 68
        }
      },
      "source": [
        "#Transposing a Tensor in two ways\n",
        "# Transpose\n",
        "t.t()"
      ],
      "execution_count": 0,
      "outputs": [
        {
          "output_type": "execute_result",
          "data": {
            "text/plain": [
              "tensor([[1., 4.],\n",
              "        [2., 5.],\n",
              "        [3., 6.]])"
            ]
          },
          "metadata": {
            "tags": []
          },
          "execution_count": 6
        }
      ]
    },
    {
      "cell_type": "code",
      "metadata": {
        "id": "d7EG6sdlrQl8",
        "colab_type": "code",
        "outputId": "f741ca65-72d9-40c0-f1ec-9f7927ffa0fb",
        "colab": {
          "base_uri": "https://localhost:8080/",
          "height": 68
        }
      },
      "source": [
        "# Transpose (via permute)\n",
        "t.permute(-1,0)"
      ],
      "execution_count": 0,
      "outputs": [
        {
          "output_type": "execute_result",
          "data": {
            "text/plain": [
              "tensor([[1., 4.],\n",
              "        [2., 5.],\n",
              "        [3., 6.]])"
            ]
          },
          "metadata": {
            "tags": []
          },
          "execution_count": 5
        }
      ]
    },
    {
      "cell_type": "code",
      "metadata": {
        "id": "1CIsgRTbri2V",
        "colab_type": "code",
        "colab": {}
      },
      "source": [
        "#Note that neither result in a change to the original. Transposing won't change the shape"
      ],
      "execution_count": 0,
      "outputs": []
    },
    {
      "cell_type": "code",
      "metadata": {
        "id": "3EFe2KNKrrwa",
        "colab_type": "code",
        "outputId": "2cadc03d-8366-4b17-fe9d-427c8b95b62e",
        "colab": {
          "base_uri": "https://localhost:8080/",
          "height": 68
        }
      },
      "source": [
        "#Reshaping\n",
        "# Reshape via view\n",
        "t.view(3,2)"
      ],
      "execution_count": 0,
      "outputs": [
        {
          "output_type": "execute_result",
          "data": {
            "text/plain": [
              "tensor([[1., 2.],\n",
              "        [3., 4.],\n",
              "        [5., 6.]])"
            ]
          },
          "metadata": {
            "tags": []
          },
          "execution_count": 7
        }
      ]
    },
    {
      "cell_type": "code",
      "metadata": {
        "id": "9V4k3OO-rwJW",
        "colab_type": "code",
        "outputId": "02b6ac44-efca-4851-eb57-3c74997d7f3f",
        "colab": {
          "base_uri": "https://localhost:8080/",
          "height": 119
        }
      },
      "source": [
        "# View again...\n",
        "t.view(6,1)"
      ],
      "execution_count": 0,
      "outputs": [
        {
          "output_type": "execute_result",
          "data": {
            "text/plain": [
              "tensor([[1.],\n",
              "        [2.],\n",
              "        [3.],\n",
              "        [4.],\n",
              "        [5.],\n",
              "        [6.]])"
            ]
          },
          "metadata": {
            "tags": []
          },
          "execution_count": 9
        }
      ]
    },
    {
      "cell_type": "code",
      "metadata": {
        "id": "5C58_vjtsSXC",
        "colab_type": "code",
        "outputId": "6889d189-85f6-4d4e-8794-febc92fc44a7",
        "colab": {
          "base_uri": "https://localhost:8080/",
          "height": 68
        }
      },
      "source": [
        "#Create a tensor and fill it with zeros (you can accomplish something similar with ones()):\n",
        "t = torch.zeros(3, 3)\n",
        "t"
      ],
      "execution_count": 0,
      "outputs": [
        {
          "output_type": "execute_result",
          "data": {
            "text/plain": [
              "tensor([[0., 0., 0.],\n",
              "        [0., 0., 0.],\n",
              "        [0., 0., 0.]])"
            ]
          },
          "metadata": {
            "tags": []
          },
          "execution_count": 10
        }
      ]
    },
    {
      "cell_type": "code",
      "metadata": {
        "id": "rbrEXixCsWq5",
        "colab_type": "code",
        "outputId": "8932907d-de42-4426-be28-5ea37878b105",
        "colab": {
          "base_uri": "https://localhost:8080/",
          "height": 68
        }
      },
      "source": [
        "#Create a tensor with randoms pulled from the normal distribution:\n",
        "t = torch.randn(3, 3)\n",
        "t"
      ],
      "execution_count": 0,
      "outputs": [
        {
          "output_type": "execute_result",
          "data": {
            "text/plain": [
              "tensor([[ 0.4867, -1.5692,  1.1211],\n",
              "        [-0.2227, -0.5317,  1.1691],\n",
              "        [-0.9875,  1.7269,  0.7609]])"
            ]
          },
          "metadata": {
            "tags": []
          },
          "execution_count": 11
        }
      ]
    },
    {
      "cell_type": "code",
      "metadata": {
        "id": "5QMRiqgFuHa3",
        "colab_type": "code",
        "outputId": "f28ed30d-236f-46e0-c286-4a3a4cdb5c19",
        "colab": {
          "base_uri": "https://localhost:8080/",
          "height": 68
        }
      },
      "source": [
        "# Some tensor info\n",
        "print('Tensor shape:', t.shape)   # t.size() gives the same\n",
        "print('Number of dimensions:', t.dim())\n",
        "print('Tensor type:', t.type())   # there are other types"
      ],
      "execution_count": 0,
      "outputs": [
        {
          "output_type": "stream",
          "text": [
            "Tensor shape: torch.Size([3, 3])\n",
            "Number of dimensions: 2\n",
            "Tensor type: torch.FloatTensor\n"
          ],
          "name": "stdout"
        }
      ]
    },
    {
      "cell_type": "code",
      "metadata": {
        "id": "Vq5uWsvCwpf0",
        "colab_type": "code",
        "outputId": "dfa7bf59-a8cc-4cde-9eca-bb144e2b28b1",
        "colab": {
          "base_uri": "https://localhost:8080/",
          "height": 85
        }
      },
      "source": [
        "#You can slice PyTorch tensors the same way you slice ndarrays, which should be familiar to anyone who uses other Python structures:\n",
        "# Slicing\n",
        "t = torch.Tensor([[1, 2, 3], [4, 5, 6], [7, 8, 9]])\n",
        "\n",
        "# Every row, only the last column\n",
        "print(t[:, -1])\n",
        "\n",
        "# First 2 rows, all columns\n",
        "print(t[:2, :])\n",
        "\n",
        "# Lower right most corner\n",
        "print(t[-1:, -1:])"
      ],
      "execution_count": 0,
      "outputs": [
        {
          "output_type": "stream",
          "text": [
            "tensor([3., 6., 9.])\n",
            "tensor([[1., 2., 3.],\n",
            "        [4., 5., 6.]])\n",
            "tensor([[9.]])\n"
          ],
          "name": "stdout"
        }
      ]
    },
    {
      "cell_type": "markdown",
      "metadata": {
        "id": "ifrQuoWbxjOO",
        "colab_type": "text"
      },
      "source": [
        "### PyTorch Tensor To and From Numpy ndarray\n",
        "\n",
        "You can easily create a tensors from an ndarray and vice versa. These operations are fast, since the data of both structures will share the same memory space, and so no copying is involved. This is obviously an efficient approach."
      ]
    },
    {
      "cell_type": "code",
      "metadata": {
        "id": "3l8b2tnaxk8T",
        "colab_type": "code",
        "outputId": "87ad676c-59eb-4e04-e3b6-44f2813b92ec",
        "colab": {
          "base_uri": "https://localhost:8080/",
          "height": 153
        }
      },
      "source": [
        "# ndarray to tensor\n",
        "a = np.random.randn(3, 5)\n",
        "t = torch.from_numpy(a)\n",
        "print(a)\n",
        "print(t)\n",
        "print(type(a))\n",
        "print(type(t))"
      ],
      "execution_count": 0,
      "outputs": [
        {
          "output_type": "stream",
          "text": [
            "[[ 0.68242997 -0.93065963  0.10525168 -1.05315403  0.52094378]\n",
            " [ 1.25888634 -0.18278963 -1.65849613  0.11423179  0.86654418]\n",
            " [-0.18580976  2.35531309  0.35603849  0.64255241  0.8650785 ]]\n",
            "tensor([[ 0.6824, -0.9307,  0.1053, -1.0532,  0.5209],\n",
            "        [ 1.2589, -0.1828, -1.6585,  0.1142,  0.8665],\n",
            "        [-0.1858,  2.3553,  0.3560,  0.6426,  0.8651]], dtype=torch.float64)\n",
            "<class 'numpy.ndarray'>\n",
            "<class 'torch.Tensor'>\n"
          ],
          "name": "stdout"
        }
      ]
    },
    {
      "cell_type": "code",
      "metadata": {
        "id": "L8whzYomyuv-",
        "colab_type": "code",
        "outputId": "551af73a-c23d-4998-9baa-d6f66df1c76a",
        "colab": {
          "base_uri": "https://localhost:8080/",
          "height": 153
        }
      },
      "source": [
        "# tensor to ndarray\n",
        "t = torch.randn(3, 5)\n",
        "a = t.numpy()\n",
        "print(t)\n",
        "print(a)\n",
        "print(type(t))\n",
        "print(type(a))"
      ],
      "execution_count": 0,
      "outputs": [
        {
          "output_type": "stream",
          "text": [
            "tensor([[ 1.0929,  0.3266, -1.0328, -1.1205, -0.3290],\n",
            "        [ 0.2044, -0.5399, -2.0760,  0.1913,  1.4445],\n",
            "        [ 1.7322, -1.1109,  1.0278, -1.4219, -0.6022]])\n",
            "[[ 1.09295     0.32660463 -1.0328249  -1.1204923  -0.32901803]\n",
            " [ 0.2043658  -0.53986263 -2.076049    0.19131471  1.4444665 ]\n",
            " [ 1.7322282  -1.1109455   1.027835   -1.4218614  -0.6021822 ]]\n",
            "<class 'torch.Tensor'>\n",
            "<class 'numpy.ndarray'>\n"
          ],
          "name": "stdout"
        }
      ]
    },
    {
      "cell_type": "markdown",
      "metadata": {
        "id": "5hZLfe3Ny5J_",
        "colab_type": "text"
      },
      "source": [
        "### Basic Tensor Operations\n",
        "\n",
        "Here are a few tensor operations, which you can compare with Numpy implementations for fun. First up is the cross product:"
      ]
    },
    {
      "cell_type": "code",
      "metadata": {
        "id": "4dFGmHP6y4Ek",
        "colab_type": "code",
        "outputId": "4b4bc114-5933-445c-fd76-de44179b4b62",
        "colab": {
          "base_uri": "https://localhost:8080/",
          "height": 85
        }
      },
      "source": [
        "# Compute cross product\n",
        "t1 = torch.randn(4, 3)\n",
        "t2 = torch.randn(4, 3)\n",
        "t1.cross(t2)"
      ],
      "execution_count": 0,
      "outputs": [
        {
          "output_type": "execute_result",
          "data": {
            "text/plain": [
              "tensor([[ 2.1078,  0.8798,  0.9369],\n",
              "        [ 2.3220, -0.6878,  1.5205],\n",
              "        [-0.9195, -2.8440, -3.7967],\n",
              "        [-0.0437, -0.3287,  0.8895]])"
            ]
          },
          "metadata": {
            "tags": []
          },
          "execution_count": 17
        }
      ]
    },
    {
      "cell_type": "code",
      "metadata": {
        "id": "D0NVm_R8zAoU",
        "colab_type": "code",
        "outputId": "4f847570-0375-4218-8863-0f1ce0b21dbb",
        "colab": {
          "base_uri": "https://localhost:8080/",
          "height": 51
        }
      },
      "source": [
        "# Compute matrix product\n",
        "t = (torch.Tensor([[2, 4], [5, 10]]).mm(torch.Tensor([[10], [20]])))\n",
        "t"
      ],
      "execution_count": 0,
      "outputs": [
        {
          "output_type": "execute_result",
          "data": {
            "text/plain": [
              "tensor([[100.],\n",
              "        [250.]])"
            ]
          },
          "metadata": {
            "tags": []
          },
          "execution_count": 18
        }
      ]
    },
    {
      "cell_type": "code",
      "metadata": {
        "id": "HyNnA4K6zMN1",
        "colab_type": "code",
        "outputId": "755bb2ea-2441-42aa-be45-85db149a4596",
        "colab": {
          "base_uri": "https://localhost:8080/",
          "height": 51
        }
      },
      "source": [
        "# Elementwise multiplication\n",
        "t = torch.Tensor([[1, 2], [3, 4]])\n",
        "t.mul(t)"
      ],
      "execution_count": 0,
      "outputs": [
        {
          "output_type": "execute_result",
          "data": {
            "text/plain": [
              "tensor([[ 1.,  4.],\n",
              "        [ 9., 16.]])"
            ]
          },
          "metadata": {
            "tags": []
          },
          "execution_count": 19
        }
      ]
    },
    {
      "cell_type": "markdown",
      "metadata": {
        "id": "qaoUBg-SzSFX",
        "colab_type": "text"
      },
      "source": [
        "### A Word About GPUs\n",
        "\n",
        "PyTorch tensors have inherent GPU support. Specifying to use the GPU memory and CUDA cores for storing and performing tensor calculations is easy; the cuda package can help determine whether GPUs are available, and the package's cuda() method assigns a tensor to the GPU."
      ]
    },
    {
      "cell_type": "code",
      "metadata": {
        "id": "D5bHPIAFzThA",
        "colab_type": "code",
        "outputId": "cbb763d5-e081-4237-dcfb-0543befea62c",
        "colab": {
          "base_uri": "https://localhost:8080/",
          "height": 34
        }
      },
      "source": [
        "# Is CUDA GPU available?\n",
        "torch.cuda.is_available()\n"
      ],
      "execution_count": 0,
      "outputs": [
        {
          "output_type": "execute_result",
          "data": {
            "text/plain": [
              "False"
            ]
          },
          "metadata": {
            "tags": []
          },
          "execution_count": 21
        }
      ]
    },
    {
      "cell_type": "code",
      "metadata": {
        "id": "KGJWinzKze2N",
        "colab_type": "code",
        "outputId": "28dc5e3a-6974-4edc-ead4-c9f08f50f303",
        "colab": {
          "base_uri": "https://localhost:8080/",
          "height": 34
        }
      },
      "source": [
        "\n",
        "# How many CUDA devices?\n",
        "torch.cuda.is_available()\n"
      ],
      "execution_count": 0,
      "outputs": [
        {
          "output_type": "execute_result",
          "data": {
            "text/plain": [
              "False"
            ]
          },
          "metadata": {
            "tags": []
          },
          "execution_count": 22
        }
      ]
    },
    {
      "cell_type": "code",
      "metadata": {
        "id": "ieTEGorjzgXH",
        "colab_type": "code",
        "colab": {}
      },
      "source": [
        "\n",
        "# Move to GPU\n",
        "t.cuda()"
      ],
      "execution_count": 0,
      "outputs": []
    }
  ]
}