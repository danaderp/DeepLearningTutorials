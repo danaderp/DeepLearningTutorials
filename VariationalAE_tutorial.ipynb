{
  "nbformat": 4,
  "nbformat_minor": 0,
  "metadata": {
    "colab": {
      "name": "VariationalAE-tutorial.ipynb",
      "version": "0.3.2",
      "provenance": [],
      "include_colab_link": true
    },
    "kernelspec": {
      "name": "python3",
      "display_name": "Python 3"
    }
  },
  "cells": [
    {
      "cell_type": "markdown",
      "metadata": {
        "id": "view-in-github",
        "colab_type": "text"
      },
      "source": [
        "<a href=\"https://colab.research.google.com/github/danaderp/DeepLearningTutorials/blob/master/VariationalAE_tutorial.ipynb\" target=\"_parent\"><img src=\"https://colab.research.google.com/assets/colab-badge.svg\" alt=\"Open In Colab\"/></a>"
      ]
    },
    {
      "cell_type": "code",
      "metadata": {
        "id": "NlL-tyT5xhk3",
        "colab_type": "code",
        "colab": {}
      },
      "source": [
        "### install necessary packages if in colab\n",
        "def run_subprocess_command(cmd):\n",
        "    process = subprocess.Popen(cmd.split(), stdout=subprocess.PIPE)\n",
        "    for line in process.stdout:\n",
        "        print(line.decode().strip())\n",
        "\n",
        "\n",
        "import sys, subprocess\n",
        "\n",
        "IN_COLAB = \"google.colab\" in sys.modules\n",
        "colab_requirements = [\n",
        "    \"pip install tf-nightly-gpu-2.0-preview==2.0.0.dev20190513\",\n",
        "    \"pip install tfp-nightly==0.7.0.dev20190508\",\n",
        "]\n",
        "if IN_COLAB:\n",
        "    for i in colab_requirements:\n",
        "        run_subprocess_command(i)"
      ],
      "execution_count": 0,
      "outputs": []
    },
    {
      "cell_type": "code",
      "metadata": {
        "id": "vz44nkzAyWBN",
        "colab_type": "code",
        "colab": {}
      },
      "source": [
        "import tensorflow as tf\n",
        "import numpy as np\n",
        "import matplotlib.pyplot as plt\n",
        "from tqdm.autonotebook import tqdm\n",
        "%matplotlib inline\n",
        "from IPython import display\n",
        "import pandas as pd\n",
        "\n",
        "# the nightly build of tensorflow_probability is required as of the time of writing this \n",
        "import tensorflow_probability as tfp\n",
        "ds = tfp.distributions"
      ],
      "execution_count": 0,
      "outputs": []
    },
    {
      "cell_type": "code",
      "metadata": {
        "id": "taEhK3yzzFj8",
        "colab_type": "code",
        "colab": {}
      },
      "source": [
        "print(tf.__version__, tfp.__version__)"
      ],
      "execution_count": 0,
      "outputs": []
    },
    {
      "cell_type": "code",
      "metadata": {
        "id": "eyXc1XOOzH8g",
        "colab_type": "code",
        "colab": {}
      },
      "source": [
        "TRAIN_BUF=60000\n",
        "BATCH_SIZE=512\n",
        "TEST_BUF=10000\n",
        "DIMS = (28,28,1)\n",
        "N_TRAIN_BATCHES =int(TRAIN_BUF/BATCH_SIZE)\n",
        "N_TEST_BATCHES = int(TEST_BUF/BATCH_SIZE)"
      ],
      "execution_count": 0,
      "outputs": []
    },
    {
      "cell_type": "code",
      "metadata": {
        "id": "pxiXuF2DzJ_X",
        "colab_type": "code",
        "colab": {}
      },
      "source": [
        "# load dataset\n",
        "(train_images, _), (test_images, _) = tf.keras.datasets.fashion_mnist.load_data()\n",
        "\n",
        "# split dataset\n",
        "train_images = train_images.reshape(train_images.shape[0], 28, 28, 1).astype(\n",
        "    \"float32\"\n",
        ") / 255.0\n",
        "test_images = test_images.reshape(test_images.shape[0], 28, 28, 1).astype(\"float32\") / 255.0\n",
        "\n",
        "# batch datasets\n",
        "train_dataset = (\n",
        "    tf.data.Dataset.from_tensor_slices(train_images)\n",
        "    .shuffle(TRAIN_BUF)\n",
        "    .batch(BATCH_SIZE)\n",
        ")\n",
        "test_dataset = (\n",
        "    tf.data.Dataset.from_tensor_slices(test_images)\n",
        "    .shuffle(TEST_BUF)\n",
        "    .batch(BATCH_SIZE)\n",
        ")"
      ],
      "execution_count": 0,
      "outputs": []
    },
    {
      "cell_type": "code",
      "metadata": {
        "id": "xGXNwgnVzMAy",
        "colab_type": "code",
        "colab": {}
      },
      "source": [
        "class VAE(tf.keras.Model):\n",
        "    \"\"\"a basic vae class for tensorflow\n",
        "    Extends:\n",
        "        tf.keras.Model\n",
        "    \"\"\"\n",
        "\n",
        "    def __init__(self, **kwargs):\n",
        "        super(VAE, self).__init__()\n",
        "        self.__dict__.update(kwargs)\n",
        "\n",
        "        self.enc = tf.keras.Sequential(self.enc)\n",
        "        self.dec = tf.keras.Sequential(self.dec)\n",
        "\n",
        "    def encode(self, x):\n",
        "        mu, sigma = tf.split(self.enc(x), num_or_size_splits=2, axis=1)\n",
        "        return ds.MultivariateNormalDiag(loc=mu, scale_diag=sigma)\n",
        "\n",
        "    def reparameterize(self, mean, logvar):\n",
        "        eps = tf.random.normal(shape=mean.shape)\n",
        "        return eps * tf.exp(logvar * 0.5) + mean\n",
        "\n",
        "    def reconstruct(self, x):\n",
        "        mu, _ = tf.split(self.enc(x), num_or_size_splits=2, axis=1)\n",
        "        return self.decode(mu)\n",
        "\n",
        "    def decode(self, z):\n",
        "        return self.dec(z)\n",
        "\n",
        "    def compute_loss(self, x):\n",
        "\n",
        "        q_z = self.encode(x)\n",
        "        z = q_z.sample()\n",
        "        x_recon = self.decode(z)\n",
        "        p_z = ds.MultivariateNormalDiag(\n",
        "          loc=[0.] * z.shape[-1], scale_diag=[1.] * z.shape[-1]\n",
        "          )\n",
        "        kl_div = ds.kl_divergence(q_z, p_z)\n",
        "        latent_loss = tf.reduce_mean(tf.maximum(kl_div, 0))\n",
        "        recon_loss = tf.reduce_mean(tf.reduce_sum(tf.math.square(x - x_recon), axis=0))\n",
        "\n",
        "        return recon_loss, latent_loss\n",
        "\n",
        "    def compute_gradients(self, x):\n",
        "        with tf.GradientTape() as tape:\n",
        "            loss = self.compute_loss(x)\n",
        "        return tape.gradient(loss, self.trainable_variables)\n",
        "\n",
        "    @tf.function\n",
        "    def train(self, train_x):\n",
        "        gradients = self.compute_gradients(train_x)\n",
        "        self.optimizer.apply_gradients(zip(gradients, self.trainable_variables))"
      ],
      "execution_count": 0,
      "outputs": []
    },
    {
      "cell_type": "code",
      "metadata": {
        "id": "GYWpiJTGzRVc",
        "colab_type": "code",
        "colab": {}
      },
      "source": [
        "N_Z = 2\n",
        "encoder = [\n",
        "    tf.keras.layers.InputLayer(input_shape=DIMS),\n",
        "    tf.keras.layers.Conv2D(\n",
        "        filters=32, kernel_size=3, strides=(2, 2), activation=\"relu\"\n",
        "    ),\n",
        "    tf.keras.layers.Conv2D(\n",
        "        filters=64, kernel_size=3, strides=(2, 2), activation=\"relu\"\n",
        "    ),\n",
        "    tf.keras.layers.Flatten(),\n",
        "    tf.keras.layers.Dense(units=N_Z*2),\n",
        "]\n",
        "\n",
        "decoder = [\n",
        "    tf.keras.layers.Dense(units=7 * 7 * 64, activation=\"relu\"),\n",
        "    tf.keras.layers.Reshape(target_shape=(7, 7, 64)),\n",
        "    tf.keras.layers.Conv2DTranspose(\n",
        "        filters=64, kernel_size=3, strides=(2, 2), padding=\"SAME\", activation=\"relu\"\n",
        "    ),\n",
        "    tf.keras.layers.Conv2DTranspose(\n",
        "        filters=32, kernel_size=3, strides=(2, 2), padding=\"SAME\", activation=\"relu\"\n",
        "    ),\n",
        "    tf.keras.layers.Conv2DTranspose(\n",
        "        filters=1, kernel_size=3, strides=(1, 1), padding=\"SAME\", activation=\"sigmoid\"\n",
        "    ),\n",
        "]"
      ],
      "execution_count": 0,
      "outputs": []
    },
    {
      "cell_type": "code",
      "metadata": {
        "id": "elQnvTvMzaz_",
        "colab_type": "code",
        "colab": {}
      },
      "source": [
        "# the optimizer for the model\n",
        "optimizer = tf.keras.optimizers.Adam(1e-3)\n",
        "# train the model\n",
        "model = VAE(\n",
        "    enc = encoder,\n",
        "    dec = decoder,\n",
        "    optimizer = optimizer,\n",
        ")"
      ],
      "execution_count": 0,
      "outputs": []
    },
    {
      "cell_type": "code",
      "metadata": {
        "id": "WU-xT4pCzczi",
        "colab_type": "code",
        "colab": {}
      },
      "source": [
        "# exampled data for plotting results\n",
        "example_data = next(iter(test_dataset))\n",
        "\n",
        "\n",
        "def plot_reconstruction(model, example_data, nex=8, zm=2):\n",
        "\n",
        "    example_data_reconstructed = model.reconstruct(example_data)\n",
        "    samples = model.decode(tf.random.normal(shape=(BATCH_SIZE, N_Z)))\n",
        "    fig, axs = plt.subplots(ncols=nex, nrows=3, figsize=(zm * nex, zm * 3))\n",
        "    for axi, (dat, lab) in enumerate(\n",
        "        zip(\n",
        "            [example_data, example_data_reconstructed, samples],\n",
        "            [\"data\", \"data recon\", \"samples\"],\n",
        "        )\n",
        "    ):\n",
        "        for ex in range(nex):\n",
        "            axs[axi, ex].matshow(\n",
        "                dat.numpy()[ex].squeeze(), cmap=plt.cm.Greys, vmin=0, vmax=1\n",
        "            )\n",
        "            axs[axi, ex].axes.get_xaxis().set_ticks([])\n",
        "            axs[axi, ex].axes.get_yaxis().set_ticks([])\n",
        "        axs[axi, 0].set_ylabel(lab)\n",
        "\n",
        "    plt.show()"
      ],
      "execution_count": 0,
      "outputs": []
    },
    {
      "cell_type": "code",
      "metadata": {
        "id": "O3KgI2Dsze-3",
        "colab_type": "code",
        "colab": {}
      },
      "source": [
        "# a pandas dataframe to save the loss information to\n",
        "losses = pd.DataFrame(columns = ['recon_loss', 'latent_loss'])"
      ],
      "execution_count": 0,
      "outputs": []
    },
    {
      "cell_type": "code",
      "metadata": {
        "id": "R4KTBfkPzgrG",
        "colab_type": "code",
        "colab": {}
      },
      "source": [
        "n_epochs = 50\n",
        "for epoch in range(n_epochs):\n",
        "    # train\n",
        "    for batch, train_x in tqdm(\n",
        "        zip(range(N_TRAIN_BATCHES), train_dataset), total=N_TRAIN_BATCHES\n",
        "    ):\n",
        "        model.train(train_x)\n",
        "    # test on holdout\n",
        "    loss = []\n",
        "    for batch, test_x in tqdm(\n",
        "        zip(range(N_TEST_BATCHES), test_dataset), total=N_TEST_BATCHES\n",
        "    ):\n",
        "        loss.append(model.compute_loss(train_x))\n",
        "    losses.loc[len(losses)] = np.mean(loss, axis=0)\n",
        "    # plot results\n",
        "    display.clear_output()\n",
        "    print(\n",
        "        \"Epoch: {} | recon_loss: {} | latent_loss: {}\".format(\n",
        "            epoch, losses.recon_loss.values[-1], losses.latent_loss.values[-1]\n",
        "        )\n",
        "    )\n",
        "    plot_reconstruction(model, example_data)"
      ],
      "execution_count": 0,
      "outputs": []
    },
    {
      "cell_type": "code",
      "metadata": {
        "id": "khTiuFZDzjmJ",
        "colab_type": "code",
        "colab": {}
      },
      "source": [
        "# sample from grid\n",
        "nx = ny =10\n",
        "meshgrid = np.meshgrid(np.linspace(-3, 3, nx), np.linspace(-3, 3, ny))\n",
        "meshgrid = np.array(meshgrid).reshape(2, nx*ny).T\n",
        "x_grid = model.decode(meshgrid)\n",
        "x_grid = x_grid.numpy().reshape(nx, ny, 28,28, 1)\n",
        "# fill canvas\n",
        "canvas = np.zeros((nx*28, ny*28))\n",
        "for xi in range(nx):\n",
        "    for yi in range(ny):\n",
        "        canvas[xi*28:xi*28+28, yi*28:yi*28+28] = x_grid[xi, yi,:,:,:].squeeze()\n",
        "fig, ax = plt.subplots(figsize=(10,10))\n",
        "ax.matshow(canvas, cmap=plt.cm.Greys)\n",
        "ax.axis('off')"
      ],
      "execution_count": 0,
      "outputs": []
    },
    {
      "cell_type": "code",
      "metadata": {
        "id": "afyO65_TzlZR",
        "colab_type": "code",
        "colab": {}
      },
      "source": [
        ""
      ],
      "execution_count": 0,
      "outputs": []
    }
  ]
}