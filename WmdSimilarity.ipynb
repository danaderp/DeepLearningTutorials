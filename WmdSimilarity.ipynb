{
  "nbformat": 4,
  "nbformat_minor": 0,
  "metadata": {
    "colab": {
      "name": "WmdSimilarity.ipynb",
      "provenance": [],
      "include_colab_link": true
    },
    "kernelspec": {
      "name": "python3",
      "display_name": "Python 3"
    }
  },
  "cells": [
    {
      "cell_type": "markdown",
      "metadata": {
        "id": "view-in-github",
        "colab_type": "text"
      },
      "source": [
        "<a href=\"https://colab.research.google.com/github/danaderp/DeepLearningTutorials/blob/master/WmdSimilarity.ipynb\" target=\"_parent\"><img src=\"https://colab.research.google.com/assets/colab-badge.svg\" alt=\"Open In Colab\"/></a>"
      ]
    },
    {
      "cell_type": "code",
      "metadata": {
        "id": "XHSSXXsFzWMV",
        "colab_type": "code",
        "colab": {}
      },
      "source": [
        "#danaderp Oct'21 2019\n",
        "#Using WMD Word Mover's Distance to compute document similarity"
      ],
      "execution_count": 0,
      "outputs": []
    },
    {
      "cell_type": "code",
      "metadata": {
        "id": "lzF9uTyq90uQ",
        "colab_type": "code",
        "colab": {}
      },
      "source": [
        "from time import time\n",
        "start_nb = time()"
      ],
      "execution_count": 0,
      "outputs": []
    },
    {
      "cell_type": "code",
      "metadata": {
        "id": "PjC-ZKAX-QVR",
        "colab_type": "code",
        "outputId": "021f1161-a82d-4542-9dd4-60f1b0b5ff80",
        "colab": {
          "base_uri": "https://localhost:8080/",
          "height": 53
        }
      },
      "source": [
        "# Import and download stopwords from NLTK.\n",
        "import json\n",
        "import operator\n",
        "from nltk.corpus import stopwords\n",
        "from nltk import download\n",
        "download('stopwords')  # Download stopwords list.\n",
        "\n",
        "# Remove stopwords.\n",
        "stop_words = stopwords.words('english')"
      ],
      "execution_count": 73,
      "outputs": [
        {
          "output_type": "stream",
          "text": [
            "[nltk_data] Downloading package stopwords to /root/nltk_data...\n",
            "[nltk_data]   Package stopwords is already up-to-date!\n"
          ],
          "name": "stdout"
        }
      ]
    },
    {
      "cell_type": "code",
      "metadata": {
        "id": "-R6AZ59zYSHY",
        "colab_type": "code",
        "outputId": "e8bacc16-31b0-4b78-87e1-eaadca052e72",
        "colab": {
          "base_uri": "https://localhost:8080/",
          "height": 71
        }
      },
      "source": [
        "from nltk import word_tokenize\n",
        "download('punkt')  # Download data for tokenizer."
      ],
      "execution_count": 48,
      "outputs": [
        {
          "output_type": "stream",
          "text": [
            "[nltk_data] Downloading package punkt to /root/nltk_data...\n",
            "[nltk_data]   Package punkt is already up-to-date!\n"
          ],
          "name": "stdout"
        },
        {
          "output_type": "execute_result",
          "data": {
            "text/plain": [
              "True"
            ]
          },
          "metadata": {
            "tags": []
          },
          "execution_count": 48
        }
      ]
    },
    {
      "cell_type": "code",
      "metadata": {
        "id": "jDPfyxAE_Y8B",
        "colab_type": "code",
        "colab": {}
      },
      "source": [
        "import os\n",
        "import gensim.models as gm\n",
        "from gensim.models import Word2Vec\n",
        "from gensim.similarities import WmdSimilarity"
      ],
      "execution_count": 0,
      "outputs": []
    },
    {
      "cell_type": "code",
      "metadata": {
        "id": "VhYAv_ZFbHfE",
        "colab_type": "code",
        "colab": {}
      },
      "source": [
        "from matplotlib import pyplot as plt\n",
        "%matplotlib inline"
      ],
      "execution_count": 0,
      "outputs": []
    },
    {
      "cell_type": "code",
      "metadata": {
        "id": "DRQyUNpQAIol",
        "colab_type": "code",
        "outputId": "02870414-e3e2-41a1-8f8d-26b58ca27aae",
        "colab": {
          "base_uri": "https://localhost:8080/",
          "height": 35
        }
      },
      "source": [
        "from google.colab import drive\n",
        "drive.mount('/content/gdrive')"
      ],
      "execution_count": 51,
      "outputs": [
        {
          "output_type": "stream",
          "text": [
            "Drive already mounted at /content/gdrive; to attempt to forcibly remount, call drive.mount(\"/content/gdrive\", force_remount=True).\n"
          ],
          "name": "stdout"
        }
      ]
    },
    {
      "cell_type": "code",
      "metadata": {
        "id": "LnAblJV595P-",
        "colab_type": "code",
        "colab": {}
      },
      "source": [
        "# Initialize logging.\n",
        "import logging\n",
        "logging.basicConfig(format='%(asctime)s : %(levelname)s : %(message)s')"
      ],
      "execution_count": 0,
      "outputs": []
    },
    {
      "cell_type": "code",
      "metadata": {
        "id": "8SqmT3PA-BZp",
        "colab_type": "code",
        "colab": {}
      },
      "source": [
        "sentence_obama = 'Obama speaks to the media in Illinois'\n",
        "sentence_president = 'The president greets the press in Chicago'\n",
        "sentence_obama = sentence_obama.lower().split()\n",
        "sentence_president = sentence_president.lower().split()"
      ],
      "execution_count": 0,
      "outputs": []
    },
    {
      "cell_type": "code",
      "metadata": {
        "id": "95i2OB_x-Mrq",
        "colab_type": "code",
        "colab": {}
      },
      "source": [
        "sentence_obama = [w for w in sentence_obama if w not in stop_words]\n",
        "sentence_president = [w for w in sentence_president if w not in stop_words]"
      ],
      "execution_count": 0,
      "outputs": []
    },
    {
      "cell_type": "code",
      "metadata": {
        "id": "GF8Ltxzn_CkJ",
        "colab_type": "code",
        "colab": {}
      },
      "source": [
        "start = time()\n",
        "if not os.path.exists('/content/gdrive/My Drive/Colab Notebooks/MiningArticles/GoogleNews-vectors-negative300.bin.gz'):\n",
        "    raise ValueError(\"SKIP: You need to download the google news model\")"
      ],
      "execution_count": 0,
      "outputs": []
    },
    {
      "cell_type": "code",
      "metadata": {
        "id": "jbAjh8y2BXMn",
        "colab_type": "code",
        "outputId": "65aa3d00-b172-46fe-b76b-f923f995f965",
        "colab": {
          "base_uri": "https://localhost:8080/",
          "height": 71
        }
      },
      "source": [
        "#model = Word2Vec.load_word2vec_format('/content/gdrive/My Drive/Colab Notebooks/MiningArticles/GoogleNews-vectors-negative300.bin.gz', binary=True)\n",
        "model = gm.KeyedVectors.load_word2vec_format('/content/gdrive/My Drive/Colab Notebooks/MiningArticles/GoogleNews-vectors-negative300.bin.gz', binary=True)\n",
        "print('Cell took %.2f seconds to run.' % (time() - start))"
      ],
      "execution_count": 0,
      "outputs": [
        {
          "output_type": "stream",
          "text": [
            "/usr/local/lib/python3.6/dist-packages/smart_open/smart_open_lib.py:398: UserWarning: This function is deprecated, use smart_open.open instead. See the migration notes for details: https://github.com/RaRe-Technologies/smart_open/blob/master/README.rst#migrating-to-the-new-open-function\n",
            "  'See the migration notes for details: %s' % _MIGRATION_NOTES_URL\n"
          ],
          "name": "stderr"
        },
        {
          "output_type": "stream",
          "text": [
            "Cell took 150.90 seconds to run.\n"
          ],
          "name": "stdout"
        }
      ]
    },
    {
      "cell_type": "code",
      "metadata": {
        "id": "nUmbPMWsCJaY",
        "colab_type": "code",
        "outputId": "c29bbafe-cf14-4c3f-c27c-4515bbf228c4",
        "colab": {
          "base_uri": "https://localhost:8080/",
          "height": 35
        }
      },
      "source": [
        "#Computing Distance\n",
        "distance = model.wmdistance(sentence_obama, sentence_president)\n",
        "print('distance = %.4f' % distance)"
      ],
      "execution_count": 55,
      "outputs": [
        {
          "output_type": "stream",
          "text": [
            "distance = 1.0175\n"
          ],
          "name": "stdout"
        }
      ]
    },
    {
      "cell_type": "code",
      "metadata": {
        "id": "uDfdNg5PDp5s",
        "colab_type": "code",
        "outputId": "4a6feae2-03f2-4c8c-bd52-2699d29621ce",
        "colab": {
          "base_uri": "https://localhost:8080/",
          "height": 35
        }
      },
      "source": [
        "#Unrelated Sentence\n",
        "sentence_orange = 'Oranges are my favorite fruit'\n",
        "sentence_orange = sentence_orange.lower().split()\n",
        "sentence_orange = [w for w in sentence_orange if w not in stop_words]\n",
        "\n",
        "distance = model.wmdistance(sentence_obama, sentence_orange)\n",
        "print('distance = %.4f' % distance)"
      ],
      "execution_count": 56,
      "outputs": [
        {
          "output_type": "stream",
          "text": [
            "distance = 1.3663\n"
          ],
          "name": "stdout"
        }
      ]
    },
    {
      "cell_type": "markdown",
      "metadata": {
        "id": "2bGGpJm1D8uz",
        "colab_type": "text"
      },
      "source": [
        "#Normalizing word2vec vectors\n",
        "When using the wmdistance method, it is beneficial to normalize the word2vec vectors first, so they all have equal length. To do this, simply call model.init_sims(replace=True) and Gensim will take care of that for you.\n",
        "Note that normalizing the vectors can take some time, especially if you have a large vocabulary and/or large vectors."
      ]
    },
    {
      "cell_type": "code",
      "metadata": {
        "id": "LJmnf1BED1-N",
        "colab_type": "code",
        "outputId": "f9113b77-fd6b-4c85-c3fd-347694025f39",
        "colab": {
          "base_uri": "https://localhost:8080/",
          "height": 35
        }
      },
      "source": [
        "# Normalizing word2vec vectors.\n",
        "start = time()\n",
        "\n",
        "model.init_sims(replace=True)  # Normalizes the vectors in the word2vec class.\n",
        "\n",
        "distance = model.wmdistance(sentence_obama, sentence_president)  # Compute WMD as normal.\n",
        "\n",
        "print ('Cell took %.2f seconds to run.' %(time() - start))"
      ],
      "execution_count": 0,
      "outputs": [
        {
          "output_type": "stream",
          "text": [
            "Cell took 26.08 seconds to run.\n"
          ],
          "name": "stdout"
        }
      ]
    },
    {
      "cell_type": "markdown",
      "metadata": {
        "id": "TmzycNFKFTb1",
        "colab_type": "text"
      },
      "source": [
        "# Similarity queries using WmdSimilarity\n",
        "WMD is a measure of distance. The similarities in WmdSimilarity are simply the negative distance. Be careful not to confuse distances and similarities. Two similar documents will have a high similarity score and a small distance; two very different documents will have low similarity score, and a large distance."
      ]
    },
    {
      "cell_type": "code",
      "metadata": {
        "id": "FnMCAOGJFWxu",
        "colab_type": "code",
        "colab": {}
      },
      "source": [
        "#This preprocessing is not optimized for source code analysis\n",
        "def preprocess(doc):\n",
        "    doc = doc.lower()  # Lower the text.\n",
        "    doc = word_tokenize(doc)  # Split into words.\n",
        "    doc = [w for w in doc if not w in stop_words]  # Remove stopwords.\n",
        "    doc = [w for w in doc if w.isalpha()]  # Remove numbers and punctuation.\n",
        "    return doc"
      ],
      "execution_count": 0,
      "outputs": []
    },
    {
      "cell_type": "code",
      "metadata": {
        "id": "mjn1mjScGhyZ",
        "colab_type": "code",
        "colab": {}
      },
      "source": [
        "if not os.path.exists('/content/gdrive/My Drive/Colab Notebooks/MiningArticles/review.json'):\n",
        "    raise ValueError(\"SKIP: You need to download the json file\")"
      ],
      "execution_count": 0,
      "outputs": []
    },
    {
      "cell_type": "code",
      "metadata": {
        "id": "UinO2_FKmC3d",
        "colab_type": "code",
        "colab": {}
      },
      "source": [
        "#Counting The Reviews\n",
        "review_counts = set()\n",
        "business = set()\n",
        "with open('/content/gdrive/My Drive/Colab Notebooks/MiningArticles/review.json') as data_file:\n",
        "    for line in data_file:\n",
        "      json_line = json.loads(line)\n",
        "      business.add(json_line['business_id'])\n",
        "      review_counts.add((json_line['business_id'],json_line['review_id']))"
      ],
      "execution_count": 0,
      "outputs": []
    },
    {
      "cell_type": "code",
      "metadata": {
        "id": "XsmodL-h2AVs",
        "colab_type": "code",
        "colab": {}
      },
      "source": [
        "d = dict.fromkeys(business, 0)"
      ],
      "execution_count": 0,
      "outputs": []
    },
    {
      "cell_type": "code",
      "metadata": {
        "id": "H4uw_3bP6JDM",
        "colab_type": "code",
        "colab": {}
      },
      "source": [
        "for rew in review_counts:\n",
        "  d[rew[0]] = d[rew[0]] + 1"
      ],
      "execution_count": 0,
      "outputs": []
    },
    {
      "cell_type": "code",
      "metadata": {
        "id": "1_fOU3YZ62UV",
        "colab_type": "code",
        "colab": {}
      },
      "source": [
        "sorted_d = sorted(d.items(), key=operator.itemgetter(1))"
      ],
      "execution_count": 0,
      "outputs": []
    },
    {
      "cell_type": "code",
      "metadata": {
        "id": "01Ztiaz57S8K",
        "colab_type": "code",
        "colab": {
          "base_uri": "https://localhost:8080/",
          "height": 35
        },
        "outputId": "041874b2-8da3-430e-f6bd-ad7dc6d87549"
      },
      "source": [
        "#The restaurants we chose were those with the highest number of reviews in the Yelp dataset.\n",
        "print(sorted_d[-7:-1])\n",
        "# Business IDs of the restaurants.\n",
        "ids = [i[0] for i in sorted_d[-7:-1]]"
      ],
      "execution_count": 85,
      "outputs": [
        {
          "output_type": "stream",
          "text": [
            "[('2weQS-RnoOBhb1KsHKyoSQ', 4534), ('DkYS3arLOhA8si5uUEmHOw', 5206), ('cYwJA2A6I12KNkm2rtXd5g', 5575), ('f4x1YBxkLrZg652xt2KR5g', 5847), ('K7lWdNUhCbcnEvI0NhGewg', 6887), ('RESDUcs7fIiihp38-d6_6g', 8568)]\n"
          ],
          "name": "stdout"
        }
      ]
    },
    {
      "cell_type": "code",
      "metadata": {
        "id": "zKbLvc4wZueQ",
        "colab_type": "code",
        "outputId": "4903285a-b5ed-4725-ed16-828b56cb24a6",
        "colab": {
          "base_uri": "https://localhost:8080/",
          "height": 35
        }
      },
      "source": [
        "start = time()\n",
        "# Business IDs of the restaurants.\n",
        "\n",
        "w2v_corpus = []  # Documents to train word2vec on (all 6 restaurants).\n",
        "wmd_corpus = []  # Documents to run queries against (only one restaurant).\n",
        "documents = []  # wmd_corpus, with no pre-processing (so we can see the original documents).\n",
        "with open('/content/gdrive/My Drive/Colab Notebooks/MiningArticles/review.json') as data_file:\n",
        "    for line in data_file:\n",
        "      \n",
        "      json_line = json.loads(line)\n",
        "      \n",
        "      if json_line['business_id'] not in ids:\n",
        "         # Not one of the 6 restaurants.\n",
        "         continue\n",
        "        \n",
        "      # Pre-process document.\n",
        "      text = json_line['text']  # Extract text from JSON object.\n",
        "      text = preprocess(text)\n",
        "      \n",
        "      # Add to corpus for training Word2Vec.\n",
        "      w2v_corpus.append(text)\n",
        "        \n",
        "      if json_line['business_id'] == ids[0]:\n",
        "          # Add to corpus for similarity queries.\n",
        "          wmd_corpus.append(text)\n",
        "          documents.append(json_line['text'])\n",
        "\n",
        "print ('Cell took %.2f seconds to run.' %(time() - start))"
      ],
      "execution_count": 86,
      "outputs": [
        {
          "output_type": "stream",
          "text": [
            "Cell took 185.15 seconds to run.\n"
          ],
          "name": "stdout"
        }
      ]
    },
    {
      "cell_type": "code",
      "metadata": {
        "id": "FVkzEduF_t57",
        "colab_type": "code",
        "colab": {
          "base_uri": "https://localhost:8080/",
          "height": 35
        },
        "outputId": "a7f31bab-4e10-49f3-a479-13409ffe437e"
      },
      "source": [
        "print(len(w2v_corpus))"
      ],
      "execution_count": 97,
      "outputs": [
        {
          "output_type": "stream",
          "text": [
            "36617\n"
          ],
          "name": "stdout"
        }
      ]
    },
    {
      "cell_type": "code",
      "metadata": {
        "id": "5aHFxFYW95T2",
        "colab_type": "code",
        "colab": {}
      },
      "source": [
        "# Document lengths.\n",
        "lens = [len(doc) for doc in wmd_corpus]"
      ],
      "execution_count": 0,
      "outputs": []
    },
    {
      "cell_type": "code",
      "metadata": {
        "id": "JQ5Hhfka-E0p",
        "colab_type": "code",
        "colab": {
          "base_uri": "https://localhost:8080/",
          "height": 416
        },
        "outputId": "5d581e4f-13b1-4616-dac5-a7987e19fa57"
      },
      "source": [
        "num_bins = 20\n",
        "n, bins, patches = plt.hist(lens, num_bins, facecolor='blue', alpha=0.5)\n",
        "\n",
        "# Average length.\n",
        "avg_len = sum(lens) / float(len(lens))\n",
        "plt.axvline(avg_len, color='#e41a1c')\n",
        "plt.text(100, 800, 'mean = %.2f' % avg_len)\n",
        "\n",
        "plt.xlabel('Length')\n",
        "plt.ylabel('Frequency')\n",
        "plt.title(r'Histogram of document lengths.')\n",
        "plt.figsize=(8,6)\n",
        "\n",
        "plt.show()"
      ],
      "execution_count": 96,
      "outputs": [
        {
          "output_type": "display_data",
          "data": {
            "image/png": "[encoded data removed]",
            "text/plain": [
              "<Figure size 576x432 with 1 Axes>"
            ]
          },
          "metadata": {
            "tags": []
          }
        }
      ]
    },
    {
      "cell_type": "code",
      "metadata": {
        "id": "T-e4PYyVdHQQ",
        "colab_type": "code",
        "colab": {}
      },
      "source": [
        "##Training a model\n",
        "# Train Word2Vec on all the restaurants.\n",
        "model = Word2Vec(w2v_corpus, workers=3, size=100)"
      ],
      "execution_count": 0,
      "outputs": []
    },
    {
      "cell_type": "code",
      "metadata": {
        "id": "lnR30IYadQw9",
        "colab_type": "code",
        "colab": {}
      },
      "source": [
        "# Initialize WmdSimilarity.\n",
        "num_best = 10 #how many results the queries return\n",
        "instance = WmdSimilarity(wmd_corpus, model, num_best=num_best)"
      ],
      "execution_count": 0,
      "outputs": []
    },
    {
      "cell_type": "code",
      "metadata": {
        "id": "UlsjdsdbAd0a",
        "colab_type": "code",
        "colab": {
          "base_uri": "https://localhost:8080/",
          "height": 35
        },
        "outputId": "d4f105fb-1de7-4506-89b8-099bcfc933e4"
      },
      "source": [
        "start = time()\n",
        "\n",
        "sent = 'Very good, you should seat outdoor.'\n",
        "query = preprocess(sent)\n",
        "\n",
        "sims = instance[query]  # A query is simply a \"look-up\" in the similarity class.\n",
        "\n",
        "print ('Cell took %.2f seconds to run.' %(time() - start))"
      ],
      "execution_count": 102,
      "outputs": [
        {
          "output_type": "stream",
          "text": [
            "Cell took 32.22 seconds to run.\n"
          ],
          "name": "stdout"
        }
      ]
    }
  ]
}